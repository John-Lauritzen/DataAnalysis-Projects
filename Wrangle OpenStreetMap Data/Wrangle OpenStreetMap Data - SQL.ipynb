{
 "cells": [
  {
   "cell_type": "markdown",
   "metadata": {},
   "source": [
    "# Map Area\n",
    "\n",
    "Taylorsville City and the surrounding areas:\n",
    "\n",
    "* https://www.openstreetmap.org/export#map=13/40.6581/-111.9497\n",
    "\n",
    "I am interested in working on Taylorsville and the surrounding areas not only becuase it is around where I live currently, but also it is where both my children and parents grew up. So it is a place with a lot of memories and history for me."
   ]
  },
  {
   "cell_type": "markdown",
   "metadata": {},
   "source": [
    "# Problems Encountered in the Map\n",
    "I first downloaded the data for my area, and then ran it through Sampler.py to create a sample of my data for initial review to determine what would be candidates for cleanup. After running the values through a modified version of data.py (sample_data.py) to generate CSV files for review I went over the data and found the following points that could use improvement:\n",
    "\n",
    "* The turn:lanes tags are less readable due to omitting none value for lanes that do not have turn signals (|||right instead of |none|none|right)\n",
    "\n",
    "    * Reference: https://wiki.openstreetmap.org/wiki/Key:turn\n",
    "    \n",
    "* There are some instances of maxspeed:type = sign which is an outdated format, and so should be updated to source:maxspeed = sign\n",
    "\n",
    "    * Reference: https://wiki.openstreetmap.org/wiki/Key:maxspeed\n",
    "    \n",
    "* There are instances of hov = lane tags, which should be cleaned up as they are no longer valid\n",
    "\n",
    "    * Reference: https://wiki.openstreetmap.org/wiki/Key:hov\n",
    "    \n",
    "* There are some instances of abbreviations in addr:street tags that should be cleaned up (Rd for Road and singl letter compass directions)\n",
    "\n",
    "    * Reference: https://wiki.openstreetmap.org/wiki/Names#Abbreviation_.28don.27t_do_it.29\n",
    "    \n",
    "* There are some outdated name1 tags that should be converted to alt_name\n",
    "\n",
    "    * Reference: https://wiki.openstreetmap.org/wiki/Names\n",
    "    "
   ]
  },
  {
   "cell_type": "markdown",
   "metadata": {},
   "source": [
    "# Auditing Data\n",
    "After reviewing and determining the data to be improved I then set about creating auditing scripts to verify the amount of problem data to be cleaned and build the basis for the cleanup process. The simplest of these were the outdate/invalid tags, which each followed the basic process of checking for the appropriate collection of tags and incrementally counting them. These were tested first against my sample data for manual verification before running against the full data set."
   ]
  },
  {
   "cell_type": "code",
   "execution_count": 2,
   "metadata": {},
   "outputs": [
    {
     "name": "stdout",
     "output_type": "stream",
     "text": [
      "The count of outdated name1 tags is 3\n",
      "The count of invalid maxspeed:type = sign tags is 15\n",
      "The count of invalid HOV tags is 62\n"
     ]
    }
   ],
   "source": [
    "%run name1_audit.py\n",
    "%run speed_signs_audit.py\n",
    "%run hov_audit.py"
   ]
  },
  {
   "cell_type": "markdown",
   "metadata": {},
   "source": [
    "Auditing the abbreviations in the addr:street and turn:lanes tags were handled by street_audit.py and lanes_audit.py respectively, and these combined and reported the to be modified values so I could determine the proper process to programmatically clean the data. While previous work had provided the basis for the auditing of the addr:street tags the turn:lanes required a new regex in order to catch all instances of turn:lanes"
   ]
  },
  {
   "cell_type": "markdown",
   "metadata": {},
   "source": [
    "# Data Overview\n",
    "\n",
    "After completing the auditing and scripting the the conversion and cleanup, saved as final_data.py, and then importing the resultant data into a SQL database I ended up with the following data files:\n",
    "```\n",
    "Taylorsville.osm.....119 MB\n",
    "nodes.csv.............44 MB\n",
    "ways_nodes.csv........14 MB\n",
    "ways_tags.csv........4.4 MB\n",
    "ways.csv.............4.4 MB\n",
    "nodes_tags.csv.......1.3 MB\n",
    "DataWrangle.mdf......598 MB\n",
    "```\n",
    "\n",
    "# SQL Queries of Data\n",
    "\n",
    "### Number of Nodes\n",
    "\n",
    "```sql\n",
    "SELECT count(*)\n",
    "FROM [dbo].[nodes]\n",
    "```\n",
    "Result: 527,392\n",
    "\n",
    "### Number of Ways\n",
    "\n",
    "```sql\n",
    "SELECT count(*)\n",
    "FROM [dbo].[ways]\n",
    "```\n",
    "Result: 74,735\n",
    "\n",
    "### Number of Unique User IDs\n",
    "\n",
    "```sql\n",
    "SELECT COUNT(DISTINCT(u.[uid]))          \n",
    "FROM (SELECT [uid] FROM [dbo].[nodes] UNION ALL SELECT [uid] FROM [dbo].[ways]) u\n",
    "```\n",
    "Result: 933\n",
    "\n",
    "### Counts of Types of Leisure Nodes\n",
    "\n",
    "```sql\n",
    "SELECT [value], count(*)\n",
    "FROM dbo.nodes_tags\n",
    "WHERE [key] = 'leisure'\n",
    "GROUP BY [value]\n",
    "ORDER BY 2 DESC\n",
    "```\n",
    "Results:\n",
    "```\n",
    "picnic_table........26\n",
    "fitness_centre......10\n",
    "park................6\n",
    "playground..........6\n",
    "sports_centre.......6\n",
    "dance...............3\n",
    "bleachers...........2\n",
    "bowling_alley.......2\n",
    "fishing.............1\n",
    "amusement_arcade....1\n",
    "fitness_station.....1\n",
    "swimming_pool.......1\n",
    "```\n",
    "\n",
    "### Top 10 Named Ways With the Most Crossings\n",
    "\n",
    "```sql\n",
    "SELECT TOP 10 wt.[value], count(*)\n",
    "FROM [dbo].[ways_tags] wt JOIN [dbo].[ways_nodes] wn ON wt.[id] = wn.[id]\n",
    "WHERE wn.[node_id] IN (SELECT DISTINCT [id] FROM [dbo].[nodes_tags] WHERE [key] = 'crossing')\n",
    "AND wt.[key] = 'name'\n",
    "GROUP BY wt.[value]\n",
    "ORDER BY 2 DESC\n",
    "```\n",
    "Results:\n",
    "```\n",
    "Highland Drive..........51\n",
    "3300 South..............29\n",
    "State Street............27\n",
    "900 East................25\n",
    "1300 East...............24\n",
    "Main Street.............24\n",
    "Fort Union Boulevard....23\n",
    "3500 South..............21\n",
    "4500 South..............16\n",
    "2300 East...............15\n",
    "```"
   ]
  },
  {
   "cell_type": "markdown",
   "metadata": {},
   "source": [
    "# Additional Ideas\n",
    "While I was analyzing and reviewing the data there were a few other items I found that could use further work for cleaning up and making the data more usable:\n",
    "\n",
    "* There is a large amount of tiger tags that have not been reviewed based off of the tiger:reviewed tags\n",
    "\n",
    "Querying the SQL database returns 6,372 tiger:reviewed = no tags, meaning about 10% of the ways in the dataset I processed is still in need of review (https://wiki.openstreetmap.org/wiki/TIGER_fixup). Cleaning these up would certainly be a significant effort, as it would require manual review, but I feel it could be beneficial not only in cleaning the old data but giving a chance to catch other errors or updates needed to adjacent data due to changes over the years. One example would be a nearby business that currently is listed as \"Shake Makers\", but has since been completely demolished and rebuilt as a 7-11.\n",
    "\n",
    "* HOV lanes are limited to specific stretches of when they can be entered or exited, so these should be modeled\n",
    "\n",
    "The HOV lanes on the included Interstate 15 are the type with designated entry/exit areas. As such, adding them properly would require significant manual work to mark where the specific areas are. While this could prove some benefit in better route planning in some situations I think the work would be better focused on other areas of the Interstate outside of this dataset. The particular area I reviewed is fairly urban, which in my experience means there is less use of the HOV lanes. Further to the north and south are more suburban and rural stretches that may see more benefit in having accurate HOV mapping."
   ]
  },
  {
   "cell_type": "markdown",
   "metadata": {},
   "source": [
    "# Conclusion\n",
    "I found this project to be a very interestring and informative experience. Not only did I learn and develop my skills with Python, SQL, and data wrangling but I was introduced to a new project and tool in OpenStreetMap. There is definitely plenty of work that could be done to clean up and update this data in my neck of the woods, and as time permits in the future I may very well return to help contribute as I can."
   ]
  }
 ],
 "metadata": {
  "kernelspec": {
   "display_name": "Python 3",
   "language": "python",
   "name": "python3"
  },
  "language_info": {
   "codemirror_mode": {
    "name": "ipython",
    "version": 3
   },
   "file_extension": ".py",
   "mimetype": "text/x-python",
   "name": "python",
   "nbconvert_exporter": "python",
   "pygments_lexer": "ipython3",
   "version": "3.7.7"
  }
 },
 "nbformat": 4,
 "nbformat_minor": 4
}
