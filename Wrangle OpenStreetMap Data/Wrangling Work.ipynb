{
 "cells": [
  {
   "cell_type": "code",
   "execution_count": 4,
   "metadata": {},
   "outputs": [],
   "source": [
    "%run Sampler.py"
   ]
  },
  {
   "cell_type": "code",
   "execution_count": 5,
   "metadata": {},
   "outputs": [],
   "source": [
    "%run sample_data.py"
   ]
  },
  {
   "cell_type": "code",
   "execution_count": 6,
   "metadata": {},
   "outputs": [
    {
     "name": "stdout",
     "output_type": "stream",
     "text": [
      "{'note': 1, 'meta': 1, 'bounds': 1, 'node': 527392, 'tag': 285488, 'nd': 617362, 'way': 74735, 'member': 15905, 'relation': 700, 'osm': 1}\n"
     ]
    }
   ],
   "source": [
    "import xml.etree.ElementTree as ET\n",
    "\n",
    "def count_tags(filename):\n",
    "    tag_data = {}\n",
    "    for event, elem in ET.iterparse(filename):\n",
    "        if elem.tag in tag_data:\n",
    "            tag_data[elem.tag] += 1\n",
    "        else:\n",
    "            tag_data[elem.tag] = 1\n",
    "    return tag_data\n",
    "\n",
    "print(count_tags('Taylorsville.osm'))"
   ]
  },
  {
   "cell_type": "code",
   "execution_count": 2,
   "metadata": {},
   "outputs": [
    {
     "name": "stdout",
     "output_type": "stream",
     "text": [
      "{'lower': 150451, 'lower_colon': 108504, 'other': 26533, 'problemchars': 0}\n"
     ]
    }
   ],
   "source": [
    "import xml.etree.ElementTree as ET\n",
    "import pprint\n",
    "import re\n",
    "\n",
    "lower = re.compile(r'^([a-z]|_)*$')\n",
    "lower_colon = re.compile(r'^([a-z]|_)*:([a-z]|_)*$')\n",
    "problemchars = re.compile(r'[=\\+/&<>;\\'\"\\?%#$@\\,\\. \\t\\r\\n]')\n",
    "\n",
    "\n",
    "def key_type(element, keys):\n",
    "    if element.tag == \"tag\":\n",
    "        if re.search(lower, element.attrib['k']):\n",
    "            keys['lower'] += 1\n",
    "        elif re.search(lower_colon, element.attrib['k']):\n",
    "            keys['lower_colon'] += 1\n",
    "        elif re.search(problemchars, element.attrib['k']):\n",
    "            keys['problemchars'] += 1\n",
    "        else:\n",
    "            keys['other'] += 1\n",
    "        pass\n",
    "        \n",
    "    return keys\n",
    "\n",
    "\n",
    "\n",
    "def process_map(filename):\n",
    "    keys = {\"lower\": 0, \"lower_colon\": 0, \"problemchars\": 0, \"other\": 0}\n",
    "    for _, element in ET.iterparse(filename):\n",
    "        keys = key_type(element, keys)\n",
    "\n",
    "    return keys\n",
    "\n",
    "\n",
    "\n",
    "def test():\n",
    "    # You can use another testfile 'map.osm' to look at your solution\n",
    "    # Note that the assertion below will be incorrect then.\n",
    "    # Note as well that the test function here is only used in the Test Run;\n",
    "    # when you submit, your code will be checked against a different dataset.\n",
    "    keys = process_map('Taylorsville.osm')\n",
    "    pprint.pprint(keys)\n",
    "    \n",
    "test()"
   ]
  },
  {
   "cell_type": "code",
   "execution_count": 30,
   "metadata": {},
   "outputs": [
    {
     "name": "stdout",
     "output_type": "stream",
     "text": [
      "The count of outdated name1 tags is 3\n"
     ]
    },
    {
     "data": {
      "text/plain": [
       "3"
      ]
     },
     "execution_count": 30,
     "metadata": {},
     "output_type": "execute_result"
    }
   ],
   "source": [
    "import xml.etree.ElementTree as ET\n",
    "\n",
    "OSMFILE = \"Taylorsville.osm\"\n",
    "\n",
    "def is_name1(elem):\n",
    "    return (elem.attrib['k'] == \"name1\")\n",
    "\n",
    "\n",
    "def audit(osmfile):\n",
    "    osm_file = open(osmfile, \"r\", encoding=\"utf-8\")\n",
    "    name1_count = 0\n",
    "    for event, elem in ET.iterparse(osm_file, events=('start',)):\n",
    "\n",
    "        if elem.tag == \"node\" or elem.tag == \"way\":\n",
    "            for tag in elem.iter(\"tag\"):\n",
    "                if is_name1(tag):\n",
    "                    name1_count += 1\n",
    "    osm_file.close()\n",
    "    print('The count of outdated name1 tags is', name1_count)\n",
    "    return name1_count\n",
    "\n",
    "\n",
    "audit(OSMFILE)"
   ]
  },
  {
   "cell_type": "code",
   "execution_count": 31,
   "metadata": {},
   "outputs": [
    {
     "name": "stdout",
     "output_type": "stream",
     "text": [
      "The count of outdated name1 tags is 3\n"
     ]
    }
   ],
   "source": [
    "%run name1_audit.py"
   ]
  },
  {
   "cell_type": "code",
   "execution_count": 28,
   "metadata": {},
   "outputs": [
    {
     "name": "stdout",
     "output_type": "stream",
     "text": [
      "The count of invalid HOV tags is 62\n"
     ]
    }
   ],
   "source": [
    "%run hov_audit.py"
   ]
  },
  {
   "cell_type": "code",
   "execution_count": 29,
   "metadata": {},
   "outputs": [
    {
     "name": "stdout",
     "output_type": "stream",
     "text": [
      "The count of invalid maxspeed:type = sign tags is 15\n"
     ]
    }
   ],
   "source": [
    "%run speed_signs_audit.py"
   ]
  },
  {
   "cell_type": "code",
   "execution_count": 8,
   "metadata": {},
   "outputs": [
    {
     "name": "stdout",
     "output_type": "stream",
     "text": [
      "defaultdict(<class 'set'>,\n",
      "            {'left': 39,\n",
      "             'left;through|right': 1,\n",
      "             'left;through|through;right': 1,\n",
      "             'left|': 2,\n",
      "             'left|left': 4,\n",
      "             'left|left|none|none|none': 1,\n",
      "             'left|left|none|none|none|right': 7,\n",
      "             'left|left|right': 1,\n",
      "             'left|left|through|right': 1,\n",
      "             'left|left|through|through': 2,\n",
      "             'left|left|through|through;right': 2,\n",
      "             'left|left|through|through|right': 4,\n",
      "             'left|left||': 1,\n",
      "             'left|left|||': 3,\n",
      "             'left|left|||right': 2,\n",
      "             'left|left|||right|': 2,\n",
      "             'left|left|||through;right': 2,\n",
      "             'left|left||||right': 2,\n",
      "             'left|none': 11,\n",
      "             'left|none|none': 6,\n",
      "             'left|none|none|none': 4,\n",
      "             'left|none|none|none|right': 1,\n",
      "             'left|none|none|right': 2,\n",
      "             'left|none|right': 7,\n",
      "             'left|none|through;right': 2,\n",
      "             'left|right': 3,\n",
      "             'left|slight_left|through|through|through;right': 1,\n",
      "             'left|through': 1,\n",
      "             'left|through;right': 3,\n",
      "             'left|through|right': 1,\n",
      "             'left|through|through;right': 2,\n",
      "             'left||': 23,\n",
      "             'left||right': 7,\n",
      "             'left||right|': 1,\n",
      "             'left||through;right': 2,\n",
      "             'left|||': 19,\n",
      "             'left|||right': 8,\n",
      "             'left|||through;right': 11,\n",
      "             'left||||right': 1,\n",
      "             'left||||through;right': 1,\n",
      "             'none': 1,\n",
      "             'none|none|none|right': 4,\n",
      "             'none|none|right': 1,\n",
      "             'right': 5,\n",
      "             'right|right': 2,\n",
      "             'slight_left|through|through|through': 1,\n",
      "             'slight_left|||': 2,\n",
      "             'slight_left||||right': 1,\n",
      "             'through|through;right': 1,\n",
      "             'through|through|merge_to_left': 1,\n",
      "             'through|through|through': 7,\n",
      "             'through|through|through|right': 5,\n",
      "             '||right': 6,\n",
      "             '|||right': 1})\n"
     ]
    }
   ],
   "source": [
    "%run lanes_audit.py"
   ]
  },
  {
   "cell_type": "code",
   "execution_count": 4,
   "metadata": {},
   "outputs": [
    {
     "data": {
      "text/plain": [
       "'left|none|none|none|through;right'"
      ]
     },
     "execution_count": 4,
     "metadata": {},
     "output_type": "execute_result"
    }
   ],
   "source": [
    "import re\n",
    "test = 'left||||through;right'\n",
    "def update_turn_lanes(lanes):\n",
    "    lanes = re.sub(\"\\|\\|\", \"|none|\", lanes)\n",
    "    lanes = re.sub(\"\\|\\|\", \"|none|\", lanes)\n",
    "    return lanes\n",
    "\n",
    "update_turn_lanes(test)"
   ]
  },
  {
   "cell_type": "code",
   "execution_count": 6,
   "metadata": {},
   "outputs": [
    {
     "name": "stdout",
     "output_type": "stream",
     "text": [
      "defaultdict(<class 'set'>,\n",
      "            {'100': {'West Parkway Boulevard Suite 100'},\n",
      "             '102': {'E 3900 S, #102'},\n",
      "             '24': {'7800 South, Building 24'},\n",
      "             '340': {'900 East #340'},\n",
      "             '6': {'3640 Highland Drive, Ste. 6'},\n",
      "             '7': {'Union Park Center Building 7'},\n",
      "             'Ave': {'South Union Park Ave', 'Union Park Ave'},\n",
      "             'Blvd': {'Bingham Jct Blvd',\n",
      "                      'Bingham Junction Blvd',\n",
      "                      'E Fort Union Blvd',\n",
      "                      'Jordan Landing Blvd'},\n",
      "             'Cir': {'Quail Grove Cir'},\n",
      "             'Dr': {'Atherton Dr',\n",
      "                    'Executive Park Dr',\n",
      "                    'S Highland Dr',\n",
      "                    'W Levoy Dr'},\n",
      "             'E': {'4400 S 700 E', '7978 S 1300 E', '4670 S 2300 E'},\n",
      "             'Ln': {'Nightjar Ln'},\n",
      "             'Pl': {'Gazebo Pl'},\n",
      "             'Rd': {'Redwood Rd', 'S Redwood Rd'},\n",
      "             'S': {'3500 S',\n",
      "                   '3505 W 7800 S',\n",
      "                   '6020 S',\n",
      "                   '6200 S',\n",
      "                   'E 3045 S',\n",
      "                   'E 3300 S',\n",
      "                   'W 8000 S',\n",
      "                   'West 4100 South;W 4100 S'},\n",
      "             'St': {'S Main St',\n",
      "                    'S State St',\n",
      "                    'Smelter St',\n",
      "                    'W Center St',\n",
      "                    'West Winchester St'},\n",
      "             'W': {'S 460 W', '2700 W', 'S 7525 W', '5600 W', 'S 5600 W'},\n",
      "             'West)': {'South Westridge Blvd. (5600 West)'},\n",
      "             'avenue': {'south union park avenue'},\n",
      "             'cove': {'Goff cove'},\n",
      "             'st': {'Holden st'},\n",
      "             'street': {'South State street'}})\n"
     ]
    }
   ],
   "source": [
    "%run street_audit.py"
   ]
  },
  {
   "cell_type": "code",
   "execution_count": 12,
   "metadata": {},
   "outputs": [],
   "source": [
    "import csv\n",
    "import codecs\n",
    "import pprint\n",
    "import re\n",
    "import xml.etree.cElementTree as ET\n",
    "\n",
    "OSM_PATH = \"sample.osm\"\n",
    "\n",
    "NODES_PATH = \"nodes.csv\"\n",
    "NODE_TAGS_PATH = \"nodes_tags.csv\"\n",
    "WAYS_PATH = \"ways.csv\"\n",
    "WAY_NODES_PATH = \"ways_nodes.csv\"\n",
    "WAY_TAGS_PATH = \"ways_tags.csv\"\n",
    "\n",
    "LOWER_COLON = re.compile(r'^([a-z]|_)+:([a-z]|_)+')\n",
    "PROBLEMCHARS = re.compile(r'[=\\+/&<>;\\'\"\\?%#$@\\,\\. \\t\\r\\n]')\n",
    "STREET_TYPE = re.compile(r'\\b\\S+\\.?$', re.IGNORECASE)\n",
    "TURN_LANES_CHECK = re.compile(r'^turn:lanes')\n",
    "\n",
    "NODE_FIELDS = ['id', 'lat', 'lon', 'user', 'uid', 'version', 'changeset', 'timestamp']\n",
    "NODE_TAGS_FIELDS = ['id', 'key', 'value', 'type']\n",
    "WAY_FIELDS = ['id', 'user', 'uid', 'version', 'changeset', 'timestamp']\n",
    "WAY_TAGS_FIELDS = ['id', 'key', 'value', 'type']\n",
    "WAY_NODES_FIELDS = ['id', 'node_id', 'position']\n",
    "STREET_MAPPING = {\"Ave\": \"Avenue\", \"St.\": \"Street\", \"Rd.\": \"Road\", \"Blvd\": \"Boulevard\", \"Cir\": \"Circle\",\n",
    "                  \"Dr\": \"Drive\", \"E\": \"East\", \"Ln\": \"Lane\", \"Pl\": \"Place\", \"Rd\": \"Road\", \"S\": \"South\",\n",
    "                  \"St\": \"Street\", \"W\": \"West\", \"avenue\": \"Avenue\", \"cove\": \"Cove\", \"st\": \"Street\",\n",
    "                  \"street\": \"Street\"} #Mapping based on results of street_audit.py\n",
    "\n",
    "\n",
    "# ================================================== #\n",
    "#           Audit & Cleaning Functions               #\n",
    "# ================================================== #\n",
    "def is_maxspeed_invalid(elem):\n",
    "    return ((elem.attrib['k'] == \"maxspeed:type\") & (elem.attrib['v'] == \"sign\"))\n",
    "\n",
    "def update_street_name(name, mapping):\n",
    "    street_update = re.search(STREET_TYPE, name).group() #Determines street type at end of name\n",
    "    if street_update in mapping:\n",
    "        name = re.sub(STREET_TYPE, mapping[street_update], name) #Updates street type in name using provided mapping\n",
    "    return name\n",
    "\n",
    "def update_turn_lanes(lanes):\n",
    "    lanes = re.sub(\"^\\|\", \"none|\", lanes)\n",
    "    lanes = re.sub(\"\\|$\", \"|none\", lanes)\n",
    "    lanes = re.sub(\"\\|\\|\", \"|none|\", lanes) #Replaces || with |none| to improve readability\n",
    "    lanes = re.sub(\"\\|\\|\", \"|none|\", lanes) #Runs a second time to catch any new pairs of || created by the first pass\n",
    "    return lanes\n",
    "\n",
    "def is_street_name(elem):\n",
    "    return (elem.attrib['k'] == \"addr:street\")\n",
    "\n",
    "def is_hov_invalid(elem):\n",
    "    return ((elem.attrib['k'] == \"hov\") & (elem.attrib['v'] == \"lane\"))\n",
    "\n",
    "def is_turn_lanes(elem):\n",
    "    return (TURN_LANES_CHECK.match(elem.attrib['k']))\n",
    "\n",
    "def is_name1(elem):\n",
    "    return (elem.attrib['k'] == \"name1\")\n",
    "\n",
    "\n",
    "# ================================================== #\n",
    "#              Shape Data Function                   #\n",
    "# ================================================== #\n",
    "def shape_element(element, node_attr_fields=NODE_FIELDS, way_attr_fields=WAY_FIELDS,\n",
    "                  problem_chars=PROBLEMCHARS, default_tag_type='regular'):\n",
    "\n",
    "    node_attribs = {}\n",
    "    way_attribs = {}\n",
    "    way_nodes = []\n",
    "    tags = []  # Handle secondary tags the same way for both node and way elements\n",
    "    if element.tag == 'node':\n",
    "        for i in node_attr_fields: #For node attributes simply iterate through each field pulled in from NODE_FIELDS and store it\n",
    "            node_attribs[i] = element.attrib[i]\n",
    "            \n",
    "    elif element.tag == 'way': \n",
    "        node_count = 0 #Value used for recording position of node\n",
    "        for i in way_attr_fields:\n",
    "            way_attribs[i] = element.attrib[i]\n",
    "        for child in element: #Additional steps for handling node elements as part of ways\n",
    "            if child.tag == 'nd':\n",
    "                way_node_set = {\"id\": element.attrib[\"id\"], \"node_id\": child.attrib[\"ref\"], \"position\": node_count}\n",
    "                way_nodes.append(way_node_set)\n",
    "                node_count += 1 #Increment position value for next node   \n",
    "    for child in element: #Independant method for handling tags, regardless of if they come from a way or node\n",
    "        set_tags = {} #Short term attribute for compiling \n",
    "        if child.tag == 'tag':\n",
    "            if problem_chars.match(child.attrib[\"k\"]):\n",
    "                continue #Ignore tags that contain invalid characters in the k tag\n",
    "            elif is_maxspeed_invalid(child) or is_hov_invalid(child):\n",
    "                continue #Skip tags that have been determined as outdated and to be cleaned\n",
    "            elif LOWER_COLON.match(child.attrib[\"k\"]):\n",
    "                set_tags[\"type\"] = child.attrib[\"k\"].split(':', 1)[0] #Split k tags that contain : so type is recorded\n",
    "                set_tags[\"key\"] = child.attrib[\"k\"].split(':', 1)[1]\n",
    "                set_tags[\"id\"] = element.attrib[\"id\"]\n",
    "                if is_street_name(child):\n",
    "                    street_name = update_street_name(child.attrib[\"v\"], STREET_MAPPING)\n",
    "                    set_tags[\"value\"] = street_name\n",
    "                elif is_turn_lanes(child):\n",
    "                    turn_lanes = update_turn_lanes(child.attrib[\"v\"])\n",
    "                    set_tags[\"value\"] = turn_lanes\n",
    "                else:\n",
    "                    set_tags[\"value\"] = child.attrib[\"v\"]\n",
    "            else:\n",
    "                set_tags[\"type\"] = default_tag_type\n",
    "                if is_name1(child):\n",
    "                    set_tags[\"key\"] = \"alt_name\"\n",
    "                else:\n",
    "                    set_tags[\"key\"] = child.attrib[\"k\"]\n",
    "                set_tags[\"id\"] = element.attrib[\"id\"]\n",
    "                set_tags[\"value\"] = child.attrib[\"v\"]\n",
    "            tags.append(set_tags)\n",
    "    if element.tag == 'node':\n",
    "        return {'node': node_attribs, 'node_tags': tags}\n",
    "    elif element.tag == 'way':\n",
    "        return {'way': way_attribs, 'way_nodes': way_nodes, 'way_tags': tags}\n",
    "\n",
    "\n",
    "# ================================================== #\n",
    "#               Helper Function                      #\n",
    "# ================================================== #\n",
    "def get_element(osm_file, tags=('node', 'way', 'relation')):\n",
    "    \"\"\"Yield element if it is the right type of tag\"\"\"\n",
    "\n",
    "    context = ET.iterparse(osm_file, events=('start', 'end'))\n",
    "    _, root = next(context)\n",
    "    for event, elem in context:\n",
    "        if event == 'end' and elem.tag in tags:\n",
    "            yield elem\n",
    "            root.clear()\n",
    "\n",
    "# ================================================== #\n",
    "#               Main Function                        #\n",
    "# ================================================== #\n",
    "def process_map(file_in):\n",
    "    \"\"\"Iteratively process each XML element and write to csv(s)\"\"\"\n",
    "\n",
    "    with codecs.open(NODES_PATH, 'w', encoding=\"utf-8\") as nodes_file, \\\n",
    "         codecs.open(NODE_TAGS_PATH, 'w', encoding=\"utf-8\") as nodes_tags_file, \\\n",
    "         codecs.open(WAYS_PATH, 'w', encoding=\"utf-8\") as ways_file, \\\n",
    "         codecs.open(WAY_NODES_PATH, 'w', encoding=\"utf-8\") as way_nodes_file, \\\n",
    "         codecs.open(WAY_TAGS_PATH, 'w', encoding=\"utf-8\") as way_tags_file:\n",
    "\n",
    "        nodes_writer = csv.DictWriter(nodes_file, NODE_FIELDS)\n",
    "        node_tags_writer = csv.DictWriter(nodes_tags_file, NODE_TAGS_FIELDS)\n",
    "        ways_writer = csv.DictWriter(ways_file, WAY_FIELDS)\n",
    "        way_nodes_writer = csv.DictWriter(way_nodes_file, WAY_NODES_FIELDS)\n",
    "        way_tags_writer = csv.DictWriter(way_tags_file, WAY_TAGS_FIELDS)\n",
    "\n",
    "        nodes_writer.writeheader()\n",
    "        node_tags_writer.writeheader()\n",
    "        ways_writer.writeheader()\n",
    "        way_nodes_writer.writeheader()\n",
    "        way_tags_writer.writeheader()\n",
    "\n",
    "\n",
    "        for element in get_element(file_in, tags=('node', 'way')):\n",
    "            el = shape_element(element)\n",
    "            if el:\n",
    "\n",
    "                if element.tag == 'node':\n",
    "                    nodes_writer.writerow(el['node'])\n",
    "                    node_tags_writer.writerows(el['node_tags'])\n",
    "                elif element.tag == 'way':\n",
    "                    ways_writer.writerow(el['way'])\n",
    "                    way_nodes_writer.writerows(el['way_nodes'])\n",
    "                    way_tags_writer.writerows(el['way_tags'])\n",
    "\n",
    "\n",
    "if __name__ == '__main__':\n",
    "    process_map(OSM_PATH)"
   ]
  },
  {
   "cell_type": "code",
   "execution_count": 14,
   "metadata": {},
   "outputs": [],
   "source": [
    "%run final_data.py"
   ]
  },
  {
   "cell_type": "code",
   "execution_count": null,
   "metadata": {},
   "outputs": [],
   "source": []
  }
 ],
 "metadata": {
  "kernelspec": {
   "display_name": "Python 3",
   "language": "python",
   "name": "python3"
  },
  "language_info": {
   "codemirror_mode": {
    "name": "ipython",
    "version": 3
   },
   "file_extension": ".py",
   "mimetype": "text/x-python",
   "name": "python",
   "nbconvert_exporter": "python",
   "pygments_lexer": "ipython3",
   "version": "3.7.7"
  }
 },
 "nbformat": 4,
 "nbformat_minor": 4
}
